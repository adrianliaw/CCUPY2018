{
 "cells": [
  {
   "cell_type": "markdown",
   "metadata": {},
   "source": [
    "# Python 基礎教學-快速簡介\n",
    "\n",
    "## 中正大學資管系 (20181014)\n",
    "(本內容部分參考高雄 Python 社群教材)"
   ]
  },
  {
   "cell_type": "markdown",
   "metadata": {},
   "source": [
    "# Python 安裝"
   ]
  },
  {
   "cell_type": "markdown",
   "metadata": {},
   "source": [
    "## Python 環境建置：Anaconda (推薦)\n",
    "\n",
    "* 版本：3.x\n",
    "\n",
    "[![](images/Anaconda.png)](https://www.continuum.io/downloads)\n",
    "\n",
    "[More](http://www.ziqiangxuetang.com/python/python-install.html)"
   ]
  },
  {
   "cell_type": "markdown",
   "metadata": {},
   "source": [
    "## 第一支程式\n",
    "* 打開編輯器，例如: Sublime 3\n",
    "* 鍵入 \"print(\"Hello World!\")\"\n",
    "* 存成 hello.py 檔！\n",
    "* 在命令列使用 python hello.py 執行！\n",
    "```\n",
    "c:\\> python hello.py\n",
    "```"
   ]
  },
  {
   "cell_type": "markdown",
   "metadata": {},
   "source": [
    "# Python 的架構"
   ]
  },
  {
   "cell_type": "markdown",
   "metadata": {},
   "source": [
    "![](images/coffeeghost-q-in-py.png)"
   ]
  },
  {
   "cell_type": "markdown",
   "metadata": {},
   "source": [
    "## 【Python 語法重點】\n",
    "\n",
    "* Python 使用空白字元來定義程式結構\n",
    "  - 每一行最前面的空白字元的數目是有意義的\n",
    "  - 同一個區塊的縮排需要一樣\n",
    "* 使用 import 來載入套件或模組\n",
    "* \"#\" 開頭的為註解\n",
    "* 引號(單引號或雙引號)標注起來的為字串"
   ]
  },
  {
   "cell_type": "markdown",
   "metadata": {},
   "source": [
    "## 搜尋 Python 套件？"
   ]
  },
  {
   "cell_type": "markdown",
   "metadata": {},
   "source": [
    "## PyPI (Python Packages Index)\n",
    "![](images/PyPI.png)(https://pypi.python.org/pypi)"
   ]
  },
  {
   "cell_type": "markdown",
   "metadata": {},
   "source": [
    "## 套件安裝？\n",
    "\n",
    "1. 使用 conda 安裝套件\n",
    "2. 使用 pip 安裝套件"
   ]
  },
  {
   "cell_type": "markdown",
   "metadata": {},
   "source": [
    "## 1. 使用 conda 安裝套件\n",
    "\n",
    "* 安裝 package\n",
    "```\n",
    "c:\\> conda install -n yourenvname <package>\n",
    "# 注意：如果沒有加 \"-n yourenvname\"，則套件會被安裝到 root env\n",
    "```\n",
    "\n",
    "* 移除 package\n",
    "```\n",
    "c:\\> conda uninstall -n yourenvname <package>\n",
    "```\n",
    "\n",
    "* 檢查 conda 的版本\n",
    "```\n",
    "c:\\> conda -V\n",
    "```\n",
    "\n",
    "* 更新 conda\n",
    "```\n",
    "c:\\> conda update conda\n",
    "```"
   ]
  },
  {
   "cell_type": "markdown",
   "metadata": {},
   "source": [
    "## 2. 使用[pip](https://pip.pypa.io/en/stable/)安裝套件\n",
    "\n",
    "* 安裝套件\n",
    "```\n",
    "c:\\> pip install <package>\n",
    "```\n",
    "\n",
    "* 更新套件\n",
    "```\n",
    "c:\\> pip install --upgrade <package>\n",
    "```\n",
    "\n",
    "* 移除套件\n",
    "```\n",
    "c:\\> pip uninstall <package>\n",
    "```\n",
    "\n",
    "* 搜尋套件\n",
    "```\n",
    "c:\\> pip search <package>\n",
    "```\n",
    "\n",
    "* 列出已安裝套件\n",
    "```\n",
    "c:\\> pip list\n",
    "```\n",
    "\n",
    "* 列出已安裝套件 (requirement format)\n",
    "```\n",
    "c:\\> pip freeze\n",
    "```\n",
    "\n",
    "* 將已安裝之套件及版本輸出成文字檔\n",
    "```\n",
    "c:\\ pip freeze > requirements.txt\n",
    "```\n",
    "\n",
    "* 從 requirements.txt 安裝對應套件\n",
    "```\n",
    "c:\\ pip install -r requirements.txt\n",
    "```"
   ]
  },
  {
   "cell_type": "markdown",
   "metadata": {},
   "source": [
    "## 載入模組及套件？\n",
    "\n",
    "* import\n",
    "  - 載入模組\n",
    "* import... as...\n",
    "  - 載入模組，並取別名\n",
    "* from... import...\n",
    "  - 從套件中載入模組，或從模組中載入類別等等"
   ]
  },
  {
   "cell_type": "markdown",
   "metadata": {},
   "source": [
    "## 使用 conda 建立虛擬環境 (Virtual Environment)\n",
    "\n",
    "\n",
    "* 建立 virtual environment\n",
    "```\n",
    "c:\\> conda create -n yourenvname python=x.x anaconda\n",
    "```\n",
    "\n",
    "* 列出所有 virtual environment\n",
    "```\n",
    "c:\\> conda info -e\n",
    "```\n",
    "\n",
    "* 啟動 virtual environment\n",
    "```\n",
    "c:\\> source activate yourenvname\n",
    "```\n",
    "\n",
    "* 停止 virtual environment\n",
    "```\n",
    "c:\\> source deactivate\n",
    "```\n",
    "\n",
    "* 刪除 virtual environment\n",
    "```\n",
    "c:\\> conda remove -n yourenvname --all\n",
    "```"
   ]
  },
  {
   "cell_type": "code",
   "execution_count": 1,
   "metadata": {},
   "outputs": [
    {
     "ename": "SyntaxError",
     "evalue": "invalid syntax (<ipython-input-1-361202ebb296>, line 4)",
     "output_type": "error",
     "traceback": [
      "\u001b[0;36m  File \u001b[0;32m\"<ipython-input-1-361202ebb296>\"\u001b[0;36m, line \u001b[0;32m4\u001b[0m\n\u001b[0;31m    * 建立 virtual environment\u001b[0m\n\u001b[0m               ^\u001b[0m\n\u001b[0;31mSyntaxError\u001b[0m\u001b[0;31m:\u001b[0m invalid syntax\n"
     ]
    }
   ],
   "source": [
    "## 使用 python 建立虛擬環境 (Virtual Environment)\n",
    "\n",
    "\n",
    "* 建立 virtual environment\n",
    "```\n",
    "c:\\> python -m venv '環境名稱'\n",
    "```"
   ]
  },
  {
   "cell_type": "code",
   "execution_count": null,
   "metadata": {},
   "outputs": [],
   "source": []
  }
 ],
 "metadata": {
  "kernelspec": {
   "display_name": "Python 3",
   "language": "python",
   "name": "python3"
  },
  "language_info": {
   "codemirror_mode": {
    "name": "ipython",
    "version": 3
   },
   "file_extension": ".py",
   "mimetype": "text/x-python",
   "name": "python",
   "nbconvert_exporter": "python",
   "pygments_lexer": "ipython3",
   "version": "3.6.2"
  }
 },
 "nbformat": 4,
 "nbformat_minor": 2
}
